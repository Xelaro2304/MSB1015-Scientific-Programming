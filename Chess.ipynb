{
  "nbformat": 4,
  "nbformat_minor": 0,
  "metadata": {
    "colab": {
      "provenance": [],
      "authorship_tag": "ABX9TyN4hVWWkbvTbYSTKWHSb7y4",
      "include_colab_link": true
    },
    "kernelspec": {
      "name": "python3",
      "display_name": "Python 3"
    },
    "language_info": {
      "name": "python"
    }
  },
  "cells": [
    {
      "cell_type": "markdown",
      "metadata": {
        "id": "view-in-github",
        "colab_type": "text"
      },
      "source": [
        "<a href=\"https://colab.research.google.com/github/Xelaro2304/MSB1015-Scientific-Programming/blob/main/Chess.ipynb\" target=\"_parent\"><img src=\"https://colab.research.google.com/assets/colab-badge.svg\" alt=\"Open In Colab\"/></a>"
      ]
    },
    {
      "cell_type": "code",
      "source": [
        "!pip install -U ydata-profiling\n",
        "!pip install berserk"
      ],
      "metadata": {
        "id": "d-16AgAau3KU"
      },
      "execution_count": null,
      "outputs": []
    },
    {
      "cell_type": "code",
      "execution_count": null,
      "metadata": {
        "id": "R7_5vMPhC1vZ"
      },
      "outputs": [],
      "source": [
        "import gdown\n",
        "import os\n",
        "import berserk\n",
        "import pandas as pd\n",
        "import numpy as np\n",
        "import seaborn as sns\n",
        "from scipy import stats\n",
        "import matplotlib.pyplot as plt\n",
        "from ydata_profiling import ProfileReport\n"
      ]
    },
    {
      "cell_type": "code",
      "source": [
        "def plot_distribution(data, plot=\"hist\", title=None, label=None, bins=30, show_stats=True, normalize=False):\n",
        "    \"\"\"\n",
        "    Plot a histogram (numeric) or count plot (categorical) for a single variable.\n",
        "\n",
        "    Parameters:\n",
        "    - data: array-like, the variable to plot\n",
        "    - plot: \"hist\" for histogram, \"count\" for categorical count plot\n",
        "    - title: optional plot title\n",
        "    - label: optional x-axis label\n",
        "    - bins: number of bins for histogram\n",
        "    - show_stats: show mean/median/mode (only for histogram)\n",
        "    - normalize: bool, whether to normalize frequencies/counts (0-1 or percentages)\n",
        "    \"\"\"\n",
        "    plt.figure(figsize=(6,6))\n",
        "\n",
        "    if plot == \"hist\":\n",
        "        stat_type = 'density' if normalize else 'count'\n",
        "        sns.histplot(data, bins=bins, kde=False, color=sns.color_palette(\"colorblind\")[0], stat=stat_type)\n",
        "\n",
        "        if show_stats:\n",
        "            mean_val = np.mean(data)\n",
        "            median_val = np.median(data)\n",
        "            mode_val = stats.mode(data, keepdims=True)[0][0]\n",
        "            plt.axvline(mean_val, color=\"red\", linestyle=\"--\", linewidth=1.5, label=f\"Mean = {mean_val:.2f}\")\n",
        "            plt.axvline(median_val, color=\"green\", linestyle=\"--\", linewidth=1.5, label=f\"Median = {median_val:.2f}\")\n",
        "            plt.axvline(mode_val, color=\"blue\", linestyle=\"--\", linewidth=1.5, label=f\"Mode = {mode_val:.2f}\")\n",
        "            plt.legend()\n",
        "\n",
        "        plt.ylabel(\"Density\" if normalize else \"Frequency\")\n",
        "        plt.xlabel(label if label else \"Value\")\n",
        "\n",
        "    elif plot == \"count\":\n",
        "        counts = data.value_counts(normalize=normalize)\n",
        "        counts.plot(kind='bar', color=sns.color_palette(\"colorblind\", len(counts)))\n",
        "        plt.ylabel(\"Proportion\" if normalize else \"Count\")\n",
        "        plt.xlabel(label if label else \"Category\")\n",
        "\n",
        "    else:\n",
        "        raise ValueError(\"plot must be either 'hist' or 'count'\")\n",
        "\n",
        "    if title:\n",
        "        plt.title(title)\n",
        "    plt.tight_layout()\n",
        "    plt.show()\n"
      ],
      "metadata": {
        "id": "MSUO8GpUMUb9"
      },
      "execution_count": null,
      "outputs": []
    },
    {
      "cell_type": "code",
      "source": [
        "url = 'https://docs.google.com/uc?export=download&id=1lBXYMdZtKdMm4AtGWjJFjmBygUtn8w5y&confirm=t'\n",
        "path = os.getcwd()\n",
        "output = path + '/games.csv'\n",
        "!wget -O $output 'https://docs.google.com/uc?export=download&id=1lBXYMdZtKdMm4AtGWjJFjmBygUtn8w5y&confirm=t'"
      ],
      "metadata": {
        "id": "CBYR4gK9pfsE"
      },
      "execution_count": null,
      "outputs": []
    },
    {
      "cell_type": "code",
      "source": [
        "games_df = pd.read_csv(output, sep=';')\n"
      ],
      "metadata": {
        "id": "mnpv2wWym0Sr"
      },
      "execution_count": null,
      "outputs": []
    },
    {
      "cell_type": "code",
      "source": [
        "games_df.head()"
      ],
      "metadata": {
        "id": "m4oBpkaYrGgR"
      },
      "execution_count": null,
      "outputs": []
    },
    {
      "cell_type": "code",
      "source": [
        "games_df.shape"
      ],
      "metadata": {
        "id": "16XBWDVzrHco"
      },
      "execution_count": null,
      "outputs": []
    },
    {
      "cell_type": "code",
      "source": [
        "games_df.info()"
      ],
      "metadata": {
        "id": "0jySP37brgOC"
      },
      "execution_count": null,
      "outputs": []
    },
    {
      "cell_type": "code",
      "source": [
        "games_df.isnull().sum()"
      ],
      "metadata": {
        "id": "JAejUC_UrqlN"
      },
      "execution_count": null,
      "outputs": []
    },
    {
      "cell_type": "code",
      "source": [
        "games_df.describe()"
      ],
      "metadata": {
        "id": "1LTJhQ2ZrynZ"
      },
      "execution_count": null,
      "outputs": []
    },
    {
      "cell_type": "markdown",
      "source": [
        "Everything seems normal except for that minimum white rating, which will be inspected further"
      ],
      "metadata": {
        "id": "IkCoEP1DuE4P"
      }
    },
    {
      "cell_type": "code",
      "source": [
        "negative_rating = games_df[\"white_rating\"]\n",
        "negative_rating = negative_rating[negative_rating < 0]\n",
        "print('Number of negative values:', len(negative_rating))\n",
        "negative_rating.head()"
      ],
      "metadata": {
        "id": "erp2GE1W3HXv"
      },
      "execution_count": null,
      "outputs": []
    },
    {
      "cell_type": "markdown",
      "source": [
        "There is another game with a negative value for a rating"
      ],
      "metadata": {
        "id": "MKfqNWvT5Gh1"
      }
    },
    {
      "cell_type": "code",
      "source": [
        "negative_rating_indices = list(negative_rating.index)\n",
        "negative_rating_info = games_df.iloc[list(negative_rating_indices),]\n",
        "negative_rating_info.head()"
      ],
      "metadata": {
        "id": "d1cIctKK3N9i"
      },
      "execution_count": null,
      "outputs": []
    },
    {
      "cell_type": "markdown",
      "source": [
        "Will check the original values of the game by fetching it with game ID"
      ],
      "metadata": {
        "id": "5DbSoeK_7RpJ"
      }
    },
    {
      "cell_type": "code",
      "source": [
        "with open('./token') as f:\n",
        "\n",
        "    token = f.read()\n",
        "    token = token.strip()\n",
        "\n",
        "\n",
        "session = berserk.TokenSession(token)\n",
        "\n",
        "client = berserk.Client(session)"
      ],
      "metadata": {
        "id": "_8fBU10b7XGp"
      },
      "execution_count": null,
      "outputs": []
    },
    {
      "cell_type": "code",
      "source": [
        "negative_rating_games = list(negative_rating_info[\"id\"])\n",
        "corrected_ratings = []\n",
        "for g in negative_rating_games:\n",
        "    game = client.games.export(g, as_pgn=True)\n",
        "    print(game)\n",
        "    game = game.split('\\n')\n",
        "    corrected_ratings.append(int(game[9][11:15]))\n",
        "print(corrected_ratings)"
      ],
      "metadata": {
        "id": "WALu11H1-Leu"
      },
      "execution_count": null,
      "outputs": []
    },
    {
      "cell_type": "code",
      "source": [
        "games_positive_rtg = games_df\n",
        "games_positive_rtg.loc[negative_rating_indices, 'white_rating'] = corrected_ratings\n",
        "games_positive_rtg.loc[negative_rating_indices]"
      ],
      "metadata": {
        "id": "E1vBf-sbMBYX",
        "collapsed": true
      },
      "execution_count": null,
      "outputs": []
    },
    {
      "cell_type": "code",
      "source": [
        "profile = ProfileReport(games_df,title=\"Games report\")\n",
        "\n",
        "profile.to_file(\"games_report.html\")\n"
      ],
      "metadata": {
        "id": "B9wHgeX7usKa"
      },
      "execution_count": null,
      "outputs": []
    },
    {
      "cell_type": "code",
      "source": [
        "#!env BROWSER=firefox\n",
        "#!open games_report.html\n",
        "from IPython.display import HTML\n",
        "\n",
        "# show an HTML file inside the notebook\n",
        "HTML(filename=\"games_report.html\")"
      ],
      "metadata": {
        "collapsed": true,
        "id": "RUDJgnUhwuqD"
      },
      "execution_count": null,
      "outputs": []
    },
    {
      "cell_type": "markdown",
      "source": [
        "Things to notice:\n",
        "\n",
        "1.   There seem to be some duplicated instances\n",
        "1.   There are 400 unique increment codes, which seems problematic to use for classification\n",
        "1.   Winner classes are somewhat balanced, except for the amount of draws\n",
        "2.   The number of draws in winner is higher than the number of draws in victory status, will need to check that\n",
        "\n",
        "\n",
        "\n",
        "\n",
        "\n",
        "\n",
        "\n",
        "\n",
        "\n",
        "\n"
      ],
      "metadata": {
        "id": "vP_LZbkvhbTt"
      }
    },
    {
      "cell_type": "markdown",
      "source": [
        "Duplicated instances"
      ],
      "metadata": {
        "id": "owp4u2GKv6_O"
      }
    },
    {
      "cell_type": "code",
      "source": [
        "import matplotlib.pyplot as plt\n",
        "from scipy import stats\n",
        "\n",
        "game_ids = games_positive_rtg['id']\n",
        "#duplicates = [i for i in game_ids if game_ids.count(i) > 1]\n",
        "#print(duplicates)\n",
        "print('Number of unique records:', len(games_positive_rtg['id'].unique()))\n",
        "duplicate_counts = games_positive_rtg['id'].value_counts()\n",
        "duplicate_ids = list(duplicate_counts[duplicate_counts > 1].index)\n",
        "duplicate_counts = duplicate_counts[duplicate_counts > 1]\n",
        "print('Total number of duplicated records:', sum(duplicate_counts))\n",
        "print('Number of records duplicated:', len(duplicate_counts))\n",
        "print('Duplicated ids:', duplicate_ids)\n",
        "\n",
        "plot_distribution(duplicate_counts.values, 'hist', 'Number of Duplicates per Game ID', 'Game ID', show_stats=False)\n"
      ],
      "metadata": {
        "collapsed": true,
        "id": "HNEu2zn2pvEx"
      },
      "execution_count": null,
      "outputs": []
    },
    {
      "cell_type": "markdown",
      "source": [
        "Out of the 20,058 records, 19113 are unique, but it is detecting only 813 replicates instead of 945\n",
        "\n",
        "Repetition is mainly occuring in duplicates, although some of them are repeated 3-5 times"
      ],
      "metadata": {
        "id": "ckVZP3v6xAm4"
      }
    },
    {
      "cell_type": "code",
      "source": [
        "games_unique = games_positive_rtg.drop_duplicates(keep='first')\n",
        "print(f\"Original rows: {len(games_positive_rtg)}, After removing duplicates: {len(games_unique)}\")"
      ],
      "metadata": {
        "id": "nHqH3AOnLlHK"
      },
      "execution_count": null,
      "outputs": []
    },
    {
      "cell_type": "markdown",
      "source": [
        "Trying to remove duplicates values only removes ~400 of them, so I'll inspect further"
      ],
      "metadata": {
        "id": "REPNy9IoxK0I"
      }
    },
    {
      "cell_type": "code",
      "source": [
        "duplicate_sample = games_positive_rtg[games_positive_rtg['id'].isin(duplicate_ids[0:4])]\n",
        "duplicate_sample.sort_values(by='id')"
      ],
      "metadata": {
        "collapsed": true,
        "id": "uT7ZuCGpxvPL"
      },
      "execution_count": null,
      "outputs": []
    },
    {
      "cell_type": "markdown",
      "source": [
        "Some of the repeated instances have distinct values of \"created_at\" and \"last_move_at\", so I'll try removing it"
      ],
      "metadata": {
        "id": "ikImkRV6z3Y_"
      }
    },
    {
      "cell_type": "code",
      "source": [
        "games_time_dropped = games_positive_rtg.drop(columns=['created_at', 'last_move_at'])\n",
        "#games_time_dropped = games_positive_rtg.drop('last_move_at', axis=1)\n",
        "\n",
        "games_unique = games_time_dropped.drop_duplicates(keep='first').reset_index(drop=True)\n",
        "print(f\"Original rows: {len(games_time_dropped)}, After removing duplicates: {len(games_unique)}\")"
      ],
      "metadata": {
        "id": "oLMrIWRL0QJj"
      },
      "execution_count": null,
      "outputs": []
    },
    {
      "cell_type": "markdown",
      "source": [
        "All duplicates removed"
      ],
      "metadata": {
        "id": "DPmcgL1z1-3r"
      }
    },
    {
      "cell_type": "markdown",
      "source": [
        "Convert increment codes"
      ],
      "metadata": {
        "id": "iPzDDodQR9CJ"
      }
    },
    {
      "cell_type": "markdown",
      "source": [
        "I'll try to handle the increment code in two ways:\n",
        "\n",
        "\n",
        "1.   Separate time into minutes and time increment per move\n",
        "2.   Classify each increment code into a time control\n",
        "\n"
      ],
      "metadata": {
        "id": "IXTlPx3LUImw"
      }
    },
    {
      "cell_type": "code",
      "source": [
        "increment_code = games_unique['increment_code']\n",
        "increment_code_split = [time.split('+') for time in increment_code]\n",
        "print('Splitted increment codes:', increment_code_split)\n",
        "\n",
        "#As minutes and increment\n",
        "start_time = [int(minutes[0]) for minutes in increment_code_split]\n",
        "print('Starting time in minutes:', start_time)\n",
        "\n",
        "#bar_chart(list(games_unique.iloc()), start_time, 'Starting time per game ID')\n",
        "\n",
        "increment = [int(seconds[1]) for seconds in increment_code_split]\n",
        "print('Increment in seconds:', increment)\n",
        "\n"
      ],
      "metadata": {
        "id": "NMOMe-v5P5y9"
      },
      "execution_count": null,
      "outputs": []
    },
    {
      "cell_type": "code",
      "source": [
        "plot_distribution(start_time, 'hist', 'Starting time per game ID', 'Minutes', show_stats=True)"
      ],
      "metadata": {
        "id": "ekjG5XXoMg_u"
      },
      "execution_count": null,
      "outputs": []
    },
    {
      "cell_type": "code",
      "source": [
        "plot_distribution(increment, 'hist', 'Increment per game ID', 'Seconds', show_stats=True)"
      ],
      "metadata": {
        "id": "xBDHJwavMn5I"
      },
      "execution_count": null,
      "outputs": []
    },
    {
      "cell_type": "code",
      "source": [
        "start_time_df = pd.DataFrame(start_time, columns=['start_time'])\n",
        "increment_df = pd.DataFrame(increment, columns=['increment'])\n",
        "#check if there are games with 0 < start time < 1\n",
        "#games_unique\n",
        "under_minute = ((start_time_df < 1) & (start_time_df > 0)).sum()\n",
        "print('Games with less than 1 minute of start time:', under_minute.iloc[0])\n"
      ],
      "metadata": {
        "id": "PTdeHlQuOpJv"
      },
      "execution_count": null,
      "outputs": []
    },
    {
      "cell_type": "markdown",
      "source": [
        "Most games are finish (no increment) and have 10 minutes as start time, with no game starting with less than a minute"
      ],
      "metadata": {
        "id": "RaBIu2LLM9D_"
      }
    },
    {
      "cell_type": "code",
      "source": [
        "games_unique = pd.concat([games_unique, start_time_df], axis = 1)\n",
        "games_unique = pd.concat([games_unique, increment_df], axis = 1)\n",
        "games_unique.info()"
      ],
      "metadata": {
        "id": "lEQ3Lu1eSiUs"
      },
      "execution_count": null,
      "outputs": []
    },
    {
      "cell_type": "code",
      "source": [
        "games_unique.head()"
      ],
      "metadata": {
        "id": "NYKIaVrwaXNp"
      },
      "execution_count": null,
      "outputs": []
    },
    {
      "cell_type": "markdown",
      "source": [
        "According to the data source, Lichess, time controls are decided assuming a game length of 40 moves and assigning the following categories depending on the duration:\n",
        "\n",
        "    ≤ 29s = UltraBullet\n",
        "    ≤ 179s = Bullet\n",
        "    ≤ 479s = Blitz\n",
        "    ≤ 1499s = Rapid\n",
        "    ≥ 1500s = Classical"
      ],
      "metadata": {
        "id": "X437Tun_NLgU"
      }
    },
    {
      "cell_type": "code",
      "source": [
        "def set_time_control(minutes, increment):\n",
        "    total_time = minutes*60+increment*40\n",
        "    if total_time <= 29:\n",
        "        return 'UltraBullet'\n",
        "    elif total_time <= 179:\n",
        "        return 'Bullet'\n",
        "    elif total_time <= 479:\n",
        "        return 'Blitz'\n",
        "    elif total_time <= 1499:\n",
        "        return 'Rapid'\n",
        "    else:\n",
        "        return 'Classical'\n",
        "\n",
        "time_control = games_unique.apply(lambda x: set_time_control(x['start_time'], x['increment']), axis=1)\n",
        "time_control_df = pd.DataFrame({'time_control': time_control})\n",
        "time_control_df.info()\n"
      ],
      "metadata": {
        "collapsed": true,
        "id": "sJR_FiBcNK04"
      },
      "execution_count": null,
      "outputs": []
    },
    {
      "cell_type": "code",
      "source": [
        "plot_distribution(time_control, \"count\",'Time control per game ID', 'Time control')"
      ],
      "metadata": {
        "id": "v4kGkBEuet23"
      },
      "execution_count": null,
      "outputs": []
    },
    {
      "cell_type": "markdown",
      "source": [
        "Too few blitz games to the point they are not even appreciated"
      ],
      "metadata": {
        "id": "yc1zgMW9hal-"
      }
    },
    {
      "cell_type": "code",
      "source": [
        "blitz = [i for i in time_control if i == 'Blitz']\n",
        "print('Number of blitz games:', len(blitz))"
      ],
      "metadata": {
        "id": "vhXElTvMg_8n"
      },
      "execution_count": null,
      "outputs": []
    },
    {
      "cell_type": "markdown",
      "source": [
        "Very few blitz games"
      ],
      "metadata": {
        "id": "zNAR7PWthiU7"
      }
    },
    {
      "cell_type": "code",
      "source": [
        "games_unique = pd.concat([games_unique, time_control_df], axis=1)\n",
        "games_unique.info()"
      ],
      "metadata": {
        "id": "lVtAENfjcWmy"
      },
      "execution_count": null,
      "outputs": []
    },
    {
      "cell_type": "code",
      "source": [
        "games_unique.head()"
      ],
      "metadata": {
        "id": "kFzKsGLac4kx"
      },
      "execution_count": null,
      "outputs": []
    }
  ]
}